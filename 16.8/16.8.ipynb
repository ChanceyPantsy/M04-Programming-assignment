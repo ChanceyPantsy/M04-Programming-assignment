{
 "cells": [
  {
   "cell_type": "code",
   "execution_count": 11,
   "id": "cd01106f",
   "metadata": {
    "scrolled": true
   },
   "outputs": [
    {
     "name": "stdout",
     "output_type": "stream",
     "text": [
      "Perdido Street Station\n",
      "Small Gods\n",
      "The Spellman Files\n",
      "The Weirdstone of Brisingamen\n",
      "Thud!\n"
     ]
    }
   ],
   "source": [
    "from sqlalchemy import create_engine, Table, MetaData\n",
    "from sqlalchemy.sql import select\n",
    "\n",
    "\n",
    "engine = create_engine('sqlite:///books.db')\n",
    "\n",
    "\n",
    "metadata = MetaData()\n",
    "\n",
    "\n",
    "books = Table('books', metadata, autoload_with=engine)\n",
    "\n",
    "\n",
    "stmt = select(books).order_by(books.c.title)\n",
    "\n",
    "\n",
    "with engine.connect() as connection:\n",
    "    result = connection.execute(stmt)\n",
    "    rows = result.fetchall()\n",
    "\n",
    "\n",
    "for row in rows:\n",
    "    print(row[0])\n"
   ]
  },
  {
   "cell_type": "code",
   "execution_count": null,
   "id": "f2b46bae",
   "metadata": {},
   "outputs": [],
   "source": []
  }
 ],
 "metadata": {
  "kernelspec": {
   "display_name": "Python 3 (ipykernel)",
   "language": "python",
   "name": "python3"
  },
  "language_info": {
   "codemirror_mode": {
    "name": "ipython",
    "version": 3
   },
   "file_extension": ".py",
   "mimetype": "text/x-python",
   "name": "python",
   "nbconvert_exporter": "python",
   "pygments_lexer": "ipython3",
   "version": "3.10.6"
  }
 },
 "nbformat": 4,
 "nbformat_minor": 5
}
